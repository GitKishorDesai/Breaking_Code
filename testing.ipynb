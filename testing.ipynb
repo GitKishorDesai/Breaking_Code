{
 "cells": [
  {
   "cell_type": "markdown",
   "metadata": {},
   "source": [
    "## This Notebook is our PlayGround"
   ]
  },
  {
   "cell_type": "markdown",
   "metadata": {},
   "source": [
    "### Module Imports"
   ]
  },
  {
   "cell_type": "code",
   "execution_count": 15,
   "metadata": {},
   "outputs": [],
   "source": [
    "import warnings\n",
    "warnings.filterwarnings('ignore')"
   ]
  },
  {
   "cell_type": "code",
   "execution_count": 39,
   "metadata": {},
   "outputs": [],
   "source": [
    "import os\n",
    "from dotenv import load_dotenv\n",
    "\n",
    "import base64\n",
    "\n",
    "from github import Github,Auth\n",
    "import google.generativeai as genai"
   ]
  },
  {
   "cell_type": "code",
   "execution_count": 17,
   "metadata": {},
   "outputs": [
    {
     "data": {
      "text/plain": [
       "True"
      ]
     },
     "execution_count": 17,
     "metadata": {},
     "output_type": "execute_result"
    }
   ],
   "source": [
    "load_dotenv()"
   ]
  },
  {
   "cell_type": "code",
   "execution_count": 18,
   "metadata": {},
   "outputs": [],
   "source": [
    "def create_and_get_gemini_model():\n",
    "    genai.configure(api_key=os.getenv('GOOGLE_GEMINI_API_KEY'))\n",
    "    model = genai.GenerativeModel('gemini-pro')\n",
    "    return model"
   ]
  },
  {
   "cell_type": "code",
   "execution_count": 19,
   "metadata": {},
   "outputs": [],
   "source": [
    "def create_get_github_object():\n",
    "    g=Github(auth=Auth.Token(os.getenv('GITHUB_ACCESS_TOKEN')))\n",
    "    return g"
   ]
  },
  {
   "cell_type": "code",
   "execution_count": 20,
   "metadata": {},
   "outputs": [],
   "source": [
    "def get_username_and_repo_from_url(url):\n",
    "    starting='https://github.com/'\n",
    "    return url[len(starting):]"
   ]
  },
  {
   "cell_type": "code",
   "execution_count": 21,
   "metadata": {},
   "outputs": [],
   "source": [
    "def get_repository_object(github_object,repo_url):\n",
    "    uname_and_reponame = get_username_and_repo_from_url(repo_url)\n",
    "    repo_object = github_object.get_repo(uname_and_reponame)\n",
    "    return repo_object"
   ]
  },
  {
   "cell_type": "code",
   "execution_count": 22,
   "metadata": {},
   "outputs": [],
   "source": [
    "def load_prompt(file_path='./prompt.txt'):\n",
    "    with open(file_path,'r') as f:\n",
    "        prompt=f.read()\n",
    "    return prompt"
   ]
  },
  {
   "cell_type": "code",
   "execution_count": 52,
   "metadata": {},
   "outputs": [],
   "source": [
    "def get_report_from_gemini(model,file_content):\n",
    "    prompt=load_prompt()\n",
    "    report = model.generate_content(f\"\"\"{prompt}/n{file_content}\"\"\")\n",
    "    buffer=\"\"\"\"\"\"\n",
    "    for part in report.parts:\n",
    "        buffer+=part.text\n",
    "    return buffer"
   ]
  },
  {
   "cell_type": "code",
   "execution_count": 24,
   "metadata": {},
   "outputs": [],
   "source": [
    "def decode_bytes_to_str(byte_data):\n",
    "    decoded = base64.b64decode(byte_data)\n",
    "    return decoded"
   ]
  },
  {
   "cell_type": "code",
   "execution_count": 25,
   "metadata": {},
   "outputs": [],
   "source": [
    "dirs_to_ignore=['node_modules','.github']\n",
    "files_to_ignore=['LICENSE','.gitignore','.git','.gitattributes','.env','.bat','.sh']\n",
    "extensions_to_ignore=['md','txt','pptx','docx','xlsx','csv','db','sqlite','yaml','abi','bin','json','onnx','jpg','png','jpeg']"
   ]
  },
  {
   "cell_type": "code",
   "execution_count": 50,
   "metadata": {},
   "outputs": [],
   "source": [
    "def get_file_content_from_repo(repo_object,file_name):\n",
    "    encoded_file_content = repo_object.get_contents(file_name).content\n",
    "    decoded_file_content = decode_bytes_to_str(encoded_file_content)\n",
    "    return decoded_file_content"
   ]
  },
  {
   "cell_type": "code",
   "execution_count": 57,
   "metadata": {},
   "outputs": [],
   "source": [
    "def write_file(uname_and_reponame,file_path,file_content):\n",
    "    with open(f\"./reports_generated/{uname_and_reponame}/{file_path}\",'w',encoding='utf-8') as f:\n",
    "        f.write(file_content)"
   ]
  },
  {
   "cell_type": "code",
   "execution_count": 36,
   "metadata": {},
   "outputs": [],
   "source": [
    "def convert_to_md(file_name):\n",
    "    return f\"{file_name.replace(\".\",\"_\")}_report.md\""
   ]
  },
  {
   "cell_type": "code",
   "execution_count": 38,
   "metadata": {},
   "outputs": [],
   "source": [
    "def store_report_in_local_directory(uname_and_reponame,repo_object,gemini_model):\n",
    "    contents= repo_object.get_contents(\"\")\n",
    "    while contents:\n",
    "        item = contents.pop(0)\n",
    "        if (item.type == \"dir\" and item.name not in dirs_to_ignore):\n",
    "            if not os.path.exists(f\"./reports_generated/{uname_and_reponame}/{item.path}\"):\n",
    "                os.mkdir(f\"./reports_generated/{uname_and_reponame}/{item.path}\")\n",
    "            contents.extend(repo_object.get_contents(item.path))\n",
    "        elif (item.type==\"file\" and item.name not in files_to_ignore and item.name.split(\".\")[-1] not in extensions_to_ignore):\n",
    "            file_content = get_file_content_from_repo(repo_object,item.path)\n",
    "            generated_report = get_report_from_gemini(gemini_model,file_content)\n",
    "            write_file(uname_and_reponame,convert_to_md(item.path),generated_report)"
   ]
  },
  {
   "cell_type": "code",
   "execution_count": 48,
   "metadata": {},
   "outputs": [],
   "source": [
    "github_object   = create_get_github_object()\n",
    "repo_url        = \"https://github.com/Maran1947/Stockify\"\n",
    "repo_object     = get_repository_object(github_object,repo_url)\n",
    "gemini_model   = create_and_get_gemini_model()"
   ]
  },
  {
   "cell_type": "code",
   "execution_count": 41,
   "metadata": {},
   "outputs": [],
   "source": [
    "uname_and_reponame = get_username_and_repo_from_url(repo_url)"
   ]
  },
  {
   "cell_type": "code",
   "execution_count": 58,
   "metadata": {},
   "outputs": [],
   "source": [
    "os.mkdir(f\"./reports_generated/{uname_and_reponame.split(\"/\")[0]}\")\n",
    "os.mkdir(f\"./reports_generated/{uname_and_reponame.split(\"/\")[0]}/{uname_and_reponame.split(\"/\")[1]}\")"
   ]
  },
  {
   "cell_type": "code",
   "execution_count": 59,
   "metadata": {},
   "outputs": [],
   "source": [
    "store_report_in_local_directory(uname_and_reponame,repo_object,gemini_model)"
   ]
  }
 ],
 "metadata": {
  "kernelspec": {
   "display_name": "Python 3",
   "language": "python",
   "name": "python3"
  },
  "language_info": {
   "codemirror_mode": {
    "name": "ipython",
    "version": 3
   },
   "file_extension": ".py",
   "mimetype": "text/x-python",
   "name": "python",
   "nbconvert_exporter": "python",
   "pygments_lexer": "ipython3",
   "version": "3.12.0"
  }
 },
 "nbformat": 4,
 "nbformat_minor": 2
}
