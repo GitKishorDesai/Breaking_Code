{
 "cells": [
  {
   "cell_type": "markdown",
   "metadata": {},
   "source": [
    "## This Notebook is our PlayGround"
   ]
  },
  {
   "cell_type": "markdown",
   "metadata": {},
   "source": [
    "### Module Imports"
   ]
  },
  {
   "cell_type": "code",
   "execution_count": 2,
   "metadata": {},
   "outputs": [],
   "source": [
    "import warnings\n",
    "warnings.filterwarnings('ignore')"
   ]
  },
  {
   "cell_type": "code",
   "execution_count": 3,
   "metadata": {},
   "outputs": [],
   "source": [
    "import os\n",
    "from dotenv import load_dotenv\n",
    "\n",
    "import base64\n",
    "import requests\n",
    "import json\n",
    "\n",
    "from github import Github,Auth\n",
    "import google.generativeai as genai"
   ]
  },
  {
   "cell_type": "code",
   "execution_count": 4,
   "metadata": {},
   "outputs": [
    {
     "data": {
      "text/plain": [
       "True"
      ]
     },
     "execution_count": 4,
     "metadata": {},
     "output_type": "execute_result"
    }
   ],
   "source": [
    "load_dotenv()"
   ]
  },
  {
   "cell_type": "code",
   "execution_count": 5,
   "metadata": {},
   "outputs": [],
   "source": [
    "def create_and_get_gemini_model():\n",
    "    genai.configure(api_key=os.getenv('GOOGLE_GEMINI_API_KEY'))\n",
    "    model = genai.GenerativeModel('gemini-pro')\n",
    "    return model"
   ]
  },
  {
   "cell_type": "code",
   "execution_count": 15,
   "metadata": {},
   "outputs": [],
   "source": [
    "def create_get_github_object():\n",
    "    g=Github(auth=Auth.Token(os.getenv('GITHUB_ACCESS_TOKEN')))\n",
    "    return g"
   ]
  },
  {
   "cell_type": "code",
   "execution_count": 16,
   "metadata": {},
   "outputs": [],
   "source": [
    "def get_username_and_repo_from_url(url):\n",
    "    starting='https://github.com/'\n",
    "    return url[len(starting):]"
   ]
  },
  {
   "cell_type": "code",
   "execution_count": 19,
   "metadata": {},
   "outputs": [],
   "source": [
    "def get_repository_object(github_object,repo_url):\n",
    "    uname_and_reponame = get_username_and_repo_from_url(repo_url)\n",
    "    repo_object = github_object.get_repo(uname_and_reponame)\n",
    "    return repo_object"
   ]
  },
  {
   "cell_type": "code",
   "execution_count": 11,
   "metadata": {},
   "outputs": [],
   "source": [
    "def load_prompt(file_path='./prompt.txt'):\n",
    "    with open(file_path,'r') as f:\n",
    "        prompt=f.read()\n",
    "    return prompt"
   ]
  },
  {
   "cell_type": "code",
   "execution_count": 32,
   "metadata": {},
   "outputs": [],
   "source": [
    "def get_report_from_gemini(model,code_file):\n",
    "    prompt=load_prompt()\n",
    "    report = model.generate_content(f\"\"\"{prompt}/n{code_file}\"\"\")\n",
    "    return report.text"
   ]
  },
  {
   "cell_type": "code",
   "execution_count": 13,
   "metadata": {},
   "outputs": [],
   "source": [
    "def decode_bytes_to_str(byte_data):\n",
    "    decoded = base64.b64decode(byte_data)\n",
    "    return decoded"
   ]
  },
  {
   "cell_type": "code",
   "execution_count": 17,
   "metadata": {},
   "outputs": [],
   "source": [
    "dirs_to_ignore=['node_modules','.github']\n",
    "files_to_ignore=['LICENSE','.gitignore','.git','.gitattributes','.env','.bat','.sh']\n",
    "extensions_to_ignore=['md','txt','pptx','docx','xlsx','csv','db','sqlite','yaml','abi','bin','json','onnx','jpg','png','jpeg']"
   ]
  },
  {
   "cell_type": "code",
   "execution_count": 21,
   "metadata": {},
   "outputs": [],
   "source": [
    "def get_list_of_all_files_in_repo(repo_object):\n",
    "    contents= repo_object.get_contents(\"\")\n",
    "    files=[]\n",
    "    while contents:\n",
    "        item = contents.pop(0)\n",
    "        if (item.type == \"dir\" and item.name not in dirs_to_ignore):\n",
    "            contents.extend(repo_object.get_contents(item.path))\n",
    "        elif (item.type==\"file\" and item.name not in files_to_ignore and item.name.split(\".\")[-1] not in extensions_to_ignore):\n",
    "            files.append(item.path)\n",
    "    return files"
   ]
  },
  {
   "cell_type": "code",
   "execution_count": 22,
   "metadata": {},
   "outputs": [],
   "source": [
    "def get_file_content_from_repo(repo_object,file_name):\n",
    "    encoded_file_content = repo_object.get_contents(file_name.content).content\n",
    "    decoded_file_content = decode_bytes_to_str(encoded_file_content)\n",
    "    return decoded_file_content"
   ]
  }
 ],
 "metadata": {
  "kernelspec": {
   "display_name": "Python 3",
   "language": "python",
   "name": "python3"
  },
  "language_info": {
   "codemirror_mode": {
    "name": "ipython",
    "version": 3
   },
   "file_extension": ".py",
   "mimetype": "text/x-python",
   "name": "python",
   "nbconvert_exporter": "python",
   "pygments_lexer": "ipython3",
   "version": "3.12.0"
  }
 },
 "nbformat": 4,
 "nbformat_minor": 2
}
